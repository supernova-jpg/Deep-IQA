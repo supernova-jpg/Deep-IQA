{
 "cells": [
  {
   "cell_type": "markdown",
   "metadata": {},
   "source": [
    "MNIST手写数据集是深度学习中的“Hello world”，是深度学习中最容易上手的一个项目。MNIST的任务是让计算机识别手写数据集。该数据集包含70,000张手写数字图像: 60,000张用于训练模型，10,000张用于测试。图像是灰度的，分辨率也仅有28x28像素，因而程序的预处理和运行都很方便。"
   ]
  },
  {
   "cell_type": "markdown",
   "metadata": {},
   "source": [
    "在这个网络当中，我们将使用两个卷积层，一个池化层和两个全连接层，这些层将28x28的像素块压缩成9维的向量，并与正确的数字预测结果做比较。一般而言，深度学习的框架由四部分组成：网络结构、损失函数、数据集和优化器。在本次的介绍中，我们会把这四个模块分别解耦进行讲解。"
   ]
  },
  {
   "cell_type": "markdown",
   "metadata": {},
   "source": [
    "首先我们先来导入相关库,运行本程序需要拥有pytorch和anaconda3的环境"
   ]
  },
  {
   "cell_type": "code",
   "execution_count": 48,
   "metadata": {},
   "outputs": [],
   "source": [
    "import torch.nn as nn\n",
    "import torchvision\n",
    "import torch.nn.functional as F\n",
    "import torch\n",
    "from torch.utils.data import DataLoader\n",
    "import numpy as np\n",
    "import gzip\n",
    "import os\n",
    "import matplotlib.pyplot as plt"
   ]
  },
  {
   "cell_type": "code",
   "execution_count": 47,
   "metadata": {},
   "outputs": [
    {
     "data": {
      "text/plain": [
       "<torch._C.Generator at 0x1c417b74090>"
      ]
     },
     "execution_count": 47,
     "metadata": {},
     "output_type": "execute_result"
    }
   ],
   "source": [
    "n_epochs = 3\n",
    "batch_size_train = 64\n",
    "batch_size_test = 1000\n",
    "lr = 0.01\n",
    "log_interval = 10\n",
    "random_seed = 1\n",
    "torch.manual_seed(random_seed)"
   ]
  },
  {
   "cell_type": "markdown",
   "metadata": {},
   "source": [
    "现在我们来开始尝试导入数据集，这一步的主要目的是将深度学习的图像转换成pytorch能够看懂的数据格式。我们先来创建一个dataset类，并用pytorch的`dataloader`方法加载mnist数据集。在下述的类中，有三个魔法方法。`__init__(self, ...) `方法是类的构造函数，在创建类的新实例时被调用。对于数据集类，`__init__ `方法通常用于初始化或加载数据集。例如，在处理MNIST数据集时，我们可以在这里加载数据集文件，进行预处理（如标准化、转换为Tensor等），并设置任何需要的参数。这个方法只在类的实例被创建时执行一次。`__getitem__(self, index) `方法是为了使实例能够像列表一样通过索引来访问。在数据集类中，`__getitem__ `负责返回与给定索引相对应的数据样本（和标签）。例如，在MNIST数据集中，这个方法将返回第index个图像及其对应的标签。这是实现数据加载的核心，因为它允许DataLoader在训练时逐个或批量地获取数据。而`__len__(self) `方法用于返回可迭代对象中样本的总数。在PyTorch中，DataLoader 使用这个方法来确定每个epoch需要迭代多少次以遍历整个数据集。这对于批处理和计算epoch很重要。"
   ]
  },
  {
   "cell_type": "code",
   "execution_count": 38,
   "metadata": {},
   "outputs": [],
   "source": [
    "\"\"\"\n",
    "    data_folder: 文件目录\n",
    "    data_name： 数据文件名\n",
    "    label_name：标签数据文件名\n",
    "\"\"\"\n",
    "    \n",
    "class DatasetProcessing():\n",
    "    def __init__(self, folder, data_name, label_name, transform = None):\n",
    "        (train_set, train_labels) = self._load_data(folder, data_name, label_name)\n",
    "        self.train_set = train_set\n",
    "        self.train_labels = train_labels\n",
    "        self.transform = transform\n",
    "\n",
    "    def _load_data(self, data_folder, data_name, label_name):\n",
    "        with gzip.open(os.path.join(data_folder,label_name), 'rb') as lbpath: # rb表示的是读取二进制数据,lbpath指的就是标签的存放路径。\n",
    "            y_train = np.frombuffer(lbpath.read(), np.uint8, offset=8)\n",
    "\n",
    "        with gzip.open(os.path.join(data_folder,data_name), 'rb') as imgpath:\n",
    "            x_train = np.frombuffer(\n",
    "            imgpath.read(), np.uint8, offset=16).reshape(len(y_train), 28, 28)\n",
    "        return (x_train, y_train)\n",
    "    \n",
    "    def __getitem__(self, index):\n",
    "\n",
    "        img, target = self.train_set[index], int(self.train_labels[index])\n",
    "        if self.transform is not None:\n",
    "            img = self.transform(img)\n",
    "        plt.imshow(img, cmap='gray', interpolation='none')\n",
    "        plt.title(\"Ground Truth: {}\".format(target))\n",
    "        return img, target\n",
    "    \n",
    "    def __len__(self):\n",
    "        return len(self.train_set)\n",
    "\n",
    "train_dataset = DatasetProcessing('./data/',\"train-images-idx3-ubyte.gz\",\"train-labels-idx1-ubyte.gz\")\n",
    "test_dataset = DatasetProcessing('./data/',\"t10k-images-idx3-ubyte.gz\",\"t10k-labels-idx1-ubyte.gz\")"
   ]
  },
  {
   "cell_type": "code",
   "execution_count": 33,
   "metadata": {},
   "outputs": [],
   "source": [
    "train_loader = torch.utils.data.DataLoader(dataset = train_dataset, batch_size = batch_size_train, shuffle = True)\n",
    "test_loader = torch.utils.data.DataLoader(dataset = test_dataset, batch_size = batch_size_test, shuffle = False)"
   ]
  },
  {
   "cell_type": "markdown",
   "metadata": {},
   "source": [
    "我们来看下数据集具体的形状吧！"
   ]
  },
  {
   "cell_type": "code",
   "execution_count": 45,
   "metadata": {},
   "outputs": [
    {
     "data": {
      "text/plain": [
       "(array([[  0,   0,   0,   0,   0,   0,   0,   0,   0,   0,   0,   0,   0,\n",
       "           0,   0,   0,   0,   0,   0,   0,   0,   0,   0,   0,   0,   0,\n",
       "           0,   0],\n",
       "        [  0,   0,   0,   0,   0,   0,   0,   0,   0,   0,   0,   0,   0,\n",
       "           0,   0,   0,   0,   0,   0,   0,   0,   0,   0,   0,   0,   0,\n",
       "           0,   0],\n",
       "        [  0,   0,   0,   0,   0,   0,   0,   0,   0,   0,   0,   0,   0,\n",
       "           0,   0,   0,   0,   0,   0,   0,   0,   0,   0,   0,   0,   0,\n",
       "           0,   0],\n",
       "        [  0,   0,   0,   0,   0,   0,   0,   0,   0,   0,   0,   0,   0,\n",
       "           0,   0,   0,   0,   0,  47, 231, 196,   0,   0,   0,   0,   0,\n",
       "           0,   0],\n",
       "        [  0,   0,   0,   0,   0,   0,   0,   0,   0,   0,   0,   0,   0,\n",
       "           0,   0,   0,   0,   0, 182, 253, 150,   0,   0,   0,   0,   0,\n",
       "           0,   0],\n",
       "        [  0,   0,   0,   0,   0,   0,   0,   0,   0,   0,   0,   0,   0,\n",
       "           0,   0,   0,   0, 123, 247, 222,  30,   0,   0,   0,   0,   0,\n",
       "           0,   0],\n",
       "        [  0,   0,   0,   0,   0,   0,   0,   0,   0,   0,   0,   0,   0,\n",
       "           0,   0,   0,  26, 217, 247,  94,   0,   0,   0,   0,   0,   0,\n",
       "           0,   0],\n",
       "        [  0,   0,   0,   0,   0,   0,   0,   0,   0,   0,   0,   0,   0,\n",
       "           0,   0,   0, 192, 253, 138,   0,   0,   0,   0,   0,   0,   0,\n",
       "           0,   0],\n",
       "        [  0,   0,   0,   0,   0,   0,   0,   0,   0,   0,   0,   0,   0,\n",
       "           0,   0, 105, 254, 183,   8,   0,   0,   0,   0,   0,   0,   0,\n",
       "           0,   0],\n",
       "        [  0,   0,   0,   0,   0,   0,   0,   0,   0,   0,   0,   0,   0,\n",
       "           0,  46, 254, 253,  78,   0,   0,   0,   0,   0,   0,   0,   0,\n",
       "           0,   0],\n",
       "        [  0,   0,   0,   0,   0,   0,   0,   0,   0,   0,   0,   0,   0,\n",
       "          13, 183, 254, 209,  24,   0,   0,   0,   0,   0,   0,   0,   0,\n",
       "           0,   0],\n",
       "        [  0,   0,   0,   0,   0,   0,   0,   0,   0,   0,   0,   0,   0,\n",
       "          92, 253, 254,  46,   0,   0,   0,   0,   0,   0,   0,   0,   0,\n",
       "           0,   0],\n",
       "        [  0,   0,   0,   0,   0,   0,   0,   0,   0,   0,   0,   0,  31,\n",
       "         219, 253, 171,   9,   0,   0,   0,   0,   0,   0,   0,   0,   0,\n",
       "           0,   0],\n",
       "        [  0,   0,   0,   0,   0,   0,   0,   0,   0,   0,  14, 149, 254,\n",
       "         254, 254, 134,   9,   0,   0,   0,   0,   0,   0,   0,   0,   0,\n",
       "           0,   0],\n",
       "        [  0,   0,   0,   0,   0,   0,   0,   0,   0,   0,   9, 175, 253,\n",
       "         250, 233, 254, 166,   0,   0,   0,   0,   0,   0,   0,   0,   0,\n",
       "           0,   0],\n",
       "        [  0,   0,   0,   0,   0,   0,   0,   0,   0,   0,  19, 196, 253,\n",
       "         183,   0, 223, 247,  54,   0,   0,   0,   0,   0,   0,   0,   0,\n",
       "           0,   0],\n",
       "        [  0,   0,   0,   0,   0,   0,   0,   0,   0,   0, 112, 253, 210,\n",
       "          16,   0, 156, 253,  78,   0,   0,   0,   0,   0,   0,   0,   0,\n",
       "           0,   0],\n",
       "        [  0,   0,   0,   0,   0,   0,   0,   0,   0,   0, 194, 253, 137,\n",
       "           0,   0, 156, 253,  78,   0,   0,   0,   0,   0,   0,   0,   0,\n",
       "           0,   0],\n",
       "        [  0,   0,   0,   0,   0,   0,   0,   0,   0,  61, 255, 219,  30,\n",
       "           0,   0, 255, 254,  78,   0,   0,   0,   0,   0,   0,   0,   0,\n",
       "           0,   0],\n",
       "        [  0,   0,   0,   0,   0,   0,   0,   0,   0, 180, 254, 135,   0,\n",
       "          19, 154, 254, 183,  12,   0,   0,   0,   0,   0,   0,   0,   0,\n",
       "           0,   0],\n",
       "        [  0,   0,   0,   0,   0,   0,   0,   0,   0, 195, 254, 105, 109,\n",
       "         187, 253, 235,  27,   0,   0,   0,   0,   0,   0,   0,   0,   0,\n",
       "           0,   0],\n",
       "        [  0,   0,   0,   0,   0,   0,   0,   0,   0, 195, 254, 245, 253,\n",
       "         247, 213,  15,   0,   0,   0,   0,   0,   0,   0,   0,   0,   0,\n",
       "           0,   0],\n",
       "        [  0,   0,   0,   0,   0,   0,   0,   0,   0,  83, 254, 253, 222,\n",
       "          94,   0,   0,   0,   0,   0,   0,   0,   0,   0,   0,   0,   0,\n",
       "           0,   0],\n",
       "        [  0,   0,   0,   0,   0,   0,   0,   0,   0,   0,   0,   0,   0,\n",
       "           0,   0,   0,   0,   0,   0,   0,   0,   0,   0,   0,   0,   0,\n",
       "           0,   0],\n",
       "        [  0,   0,   0,   0,   0,   0,   0,   0,   0,   0,   0,   0,   0,\n",
       "           0,   0,   0,   0,   0,   0,   0,   0,   0,   0,   0,   0,   0,\n",
       "           0,   0],\n",
       "        [  0,   0,   0,   0,   0,   0,   0,   0,   0,   0,   0,   0,   0,\n",
       "           0,   0,   0,   0,   0,   0,   0,   0,   0,   0,   0,   0,   0,\n",
       "           0,   0],\n",
       "        [  0,   0,   0,   0,   0,   0,   0,   0,   0,   0,   0,   0,   0,\n",
       "           0,   0,   0,   0,   0,   0,   0,   0,   0,   0,   0,   0,   0,\n",
       "           0,   0],\n",
       "        [  0,   0,   0,   0,   0,   0,   0,   0,   0,   0,   0,   0,   0,\n",
       "           0,   0,   0,   0,   0,   0,   0,   0,   0,   0,   0,   0,   0,\n",
       "           0,   0]], dtype=uint8),\n",
       " 6)"
      ]
     },
     "execution_count": 45,
     "metadata": {},
     "output_type": "execute_result"
    },
    {
     "data": {
      "image/png": "[encoded data removed]",
      "text/plain": [
       "<Figure size 640x480 with 1 Axes>"
      ]
     },
     "metadata": {},
     "output_type": "display_data"
    }
   ],
   "source": [
    "train_dataset[256]"
   ]
  },
  {
   "cell_type": "markdown",
   "metadata": {},
   "source": [
    "目前我们已经成功的加载好了数据集。我们将正式开始构建深度学习的神经网络！"
   ]
  },
  {
   "cell_type": "code",
   "execution_count": 49,
   "metadata": {},
   "outputs": [],
   "source": [
    "class Conv3x3(nn.Module):\n",
    "    def __init__(self, in_dim, out_dim):\n",
    "        super(Conv3x3, self).__init__()\n",
    "        self.conv = nn.Sequential(\n",
    "            nn.Conv2d(in_dim, out_dim, kernel_size=3, bias=True), \n",
    "            nn.LeakyReLU(0.1, inplace=True)\n",
    "        )\n",
    "\n",
    "    def forward(self, x):\n",
    "        return self.conv(x)\n",
    "\n",
    "class Net(nn.Module):\n",
    "    def __init__(self):\n",
    "        super(Net, self).__init__()\n",
    "        self.c1 = Conv3x3(1,8)\n",
    "        self.c2 = Conv3x3(8,16)\n",
    "        self.c3 = Conv3x3(16,4)\n",
    "        self.rl1 = nn.Linear(100,10)\n",
    "        \n",
    "\n",
    "    def forward(self,x):\n",
    "        x = self.c1(x) # 26x26x8\n",
    "        x = self.c2(x) # 24x24x16\n",
    "        x = F.adaptive_avg_pool2d(x,2) # 12x12x16\n",
    "        x = self.c3(x)# 10x10x4\n",
    "        x = F.adaptive_avg_pool2d(x,2) #5x5x4\n",
    "        x = x.view(-1,100)\n",
    "        x = self.rl1(100,10)\n",
    "        return F.log_softmax(x)"
   ]
  },
  {
   "cell_type": "markdown",
   "metadata": {},
   "source": [
    "现在我们来初始化网络和优化器。"
   ]
  }
 ],
 "metadata": {
  "kernelspec": {
   "display_name": "Python 3",
   "language": "python",
   "name": "python3"
  },
  "language_info": {
   "codemirror_mode": {
    "name": "ipython",
    "version": 3
   },
   "file_extension": ".py",
   "mimetype": "text/x-python",
   "name": "python",
   "nbconvert_exporter": "python",
   "pygments_lexer": "ipython3",
   "version": "3.11.5"
  }
 },
 "nbformat": 4,
 "nbformat_minor": 2
}
