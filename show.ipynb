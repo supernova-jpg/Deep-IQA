{
 "cells": [
  {
   "cell_type": "code",
   "execution_count": 23,
   "metadata": {},
   "outputs": [],
   "source": [
    "import sys\n",
    "import os\n",
    "\n",
    "import shutil\n",
    "import argparse\n",
    "\n",
    "import torch\n",
    "import csv\n",
    "from torch import nn\n",
    "\n",
    "from model import IQANet\n",
    "import torch.backends.cudnn as cudnn\n",
    "from dataset import IQADataset\n",
    "from utils import AverageMeter, SROCC, PLCC, RMSE\n",
    "from utils import SimpleProgressBar as ProgressBar\n",
    "from main import parse_args"
   ]
  }
 ],
 "metadata": {
  "kernelspec": {
   "display_name": "base",
   "language": "python",
   "name": "python3"
  },
  "language_info": {
   "codemirror_mode": {
    "name": "ipython",
    "version": 3
   },
   "file_extension": ".py",
   "mimetype": "text/x-python",
   "name": "python",
   "nbconvert_exporter": "python",
   "pygments_lexer": "ipython3",
   "version": "3.11.5"
  }
 },
 "nbformat": 4,
 "nbformat_minor": 2
}
